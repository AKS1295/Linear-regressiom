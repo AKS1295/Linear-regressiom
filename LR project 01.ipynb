{
 "cells": [
  {
   "cell_type": "code",
   "execution_count": 1,
   "id": "879e6846",
   "metadata": {},
   "outputs": [],
   "source": [
    "import numpy as np\n",
    "\n",
    "import pandas as pd\n",
    "\n",
    "import seaborn as sns\n",
    "\n",
    "import matplotlib.pyplot as plt\n",
    "\n",
    "from sklearn import preprocessing, svm\n",
    "\n",
    "from sklearn.model_selection import train_test_split\n",
    "\n",
    "from sklearn.linear_model import LinearRegression"
   ]
  },
  {
   "cell_type": "code",
   "execution_count": 62,
   "id": "2b3f2eb0",
   "metadata": {},
   "outputs": [],
   "source": [
    "data = pd.read_csv(r\"C:\\Users\\aksha\\Downloads\\super.csv\") "
   ]
  },
  {
   "cell_type": "code",
   "execution_count": 63,
   "id": "f4c4b887",
   "metadata": {},
   "outputs": [
    {
     "data": {
      "text/html": [
       "<div>\n",
       "<style scoped>\n",
       "    .dataframe tbody tr th:only-of-type {\n",
       "        vertical-align: middle;\n",
       "    }\n",
       "\n",
       "    .dataframe tbody tr th {\n",
       "        vertical-align: top;\n",
       "    }\n",
       "\n",
       "    .dataframe thead th {\n",
       "        text-align: right;\n",
       "    }\n",
       "</style>\n",
       "<table border=\"1\" class=\"dataframe\">\n",
       "  <thead>\n",
       "    <tr style=\"text-align: right;\">\n",
       "      <th></th>\n",
       "      <th>Order ID</th>\n",
       "      <th>Customer Name</th>\n",
       "      <th>Category</th>\n",
       "      <th>Sub Category</th>\n",
       "      <th>City</th>\n",
       "      <th>Order Date</th>\n",
       "      <th>Region</th>\n",
       "      <th>Sales</th>\n",
       "      <th>Discount</th>\n",
       "      <th>Profit</th>\n",
       "      <th>State</th>\n",
       "    </tr>\n",
       "  </thead>\n",
       "  <tbody>\n",
       "    <tr>\n",
       "      <th>0</th>\n",
       "      <td>OD1</td>\n",
       "      <td>Harish</td>\n",
       "      <td>Oil &amp; Masala</td>\n",
       "      <td>Masalas</td>\n",
       "      <td>Vellore</td>\n",
       "      <td>11-08-2017</td>\n",
       "      <td>North</td>\n",
       "      <td>1254</td>\n",
       "      <td>0.12</td>\n",
       "      <td>401.28</td>\n",
       "      <td>Tamil Nadu</td>\n",
       "    </tr>\n",
       "    <tr>\n",
       "      <th>1</th>\n",
       "      <td>OD2</td>\n",
       "      <td>Sudha</td>\n",
       "      <td>Beverages</td>\n",
       "      <td>Health Drinks</td>\n",
       "      <td>Krishnagiri</td>\n",
       "      <td>11-08-2017</td>\n",
       "      <td>South</td>\n",
       "      <td>749</td>\n",
       "      <td>0.18</td>\n",
       "      <td>149.80</td>\n",
       "      <td>Tamil Nadu</td>\n",
       "    </tr>\n",
       "    <tr>\n",
       "      <th>2</th>\n",
       "      <td>OD3</td>\n",
       "      <td>Hussain</td>\n",
       "      <td>Food Grains</td>\n",
       "      <td>Atta &amp; Flour</td>\n",
       "      <td>Perambalur</td>\n",
       "      <td>06-12-2017</td>\n",
       "      <td>West</td>\n",
       "      <td>2360</td>\n",
       "      <td>0.21</td>\n",
       "      <td>165.20</td>\n",
       "      <td>Tamil Nadu</td>\n",
       "    </tr>\n",
       "    <tr>\n",
       "      <th>3</th>\n",
       "      <td>OD4</td>\n",
       "      <td>Jackson</td>\n",
       "      <td>Fruits &amp; Veggies</td>\n",
       "      <td>Fresh Vegetables</td>\n",
       "      <td>Dharmapuri</td>\n",
       "      <td>10-11-2016</td>\n",
       "      <td>South</td>\n",
       "      <td>896</td>\n",
       "      <td>0.25</td>\n",
       "      <td>89.60</td>\n",
       "      <td>Tamil Nadu</td>\n",
       "    </tr>\n",
       "    <tr>\n",
       "      <th>4</th>\n",
       "      <td>OD5</td>\n",
       "      <td>Ridhesh</td>\n",
       "      <td>Food Grains</td>\n",
       "      <td>Organic Staples</td>\n",
       "      <td>Ooty</td>\n",
       "      <td>10-11-2016</td>\n",
       "      <td>South</td>\n",
       "      <td>2355</td>\n",
       "      <td>0.26</td>\n",
       "      <td>918.45</td>\n",
       "      <td>Tamil Nadu</td>\n",
       "    </tr>\n",
       "    <tr>\n",
       "      <th>...</th>\n",
       "      <td>...</td>\n",
       "      <td>...</td>\n",
       "      <td>...</td>\n",
       "      <td>...</td>\n",
       "      <td>...</td>\n",
       "      <td>...</td>\n",
       "      <td>...</td>\n",
       "      <td>...</td>\n",
       "      <td>...</td>\n",
       "      <td>...</td>\n",
       "      <td>...</td>\n",
       "    </tr>\n",
       "    <tr>\n",
       "      <th>9989</th>\n",
       "      <td>OD9990</td>\n",
       "      <td>Sudeep</td>\n",
       "      <td>Eggs, Meat &amp; Fish</td>\n",
       "      <td>Eggs</td>\n",
       "      <td>Madurai</td>\n",
       "      <td>12/24/2015</td>\n",
       "      <td>West</td>\n",
       "      <td>945</td>\n",
       "      <td>0.16</td>\n",
       "      <td>359.10</td>\n",
       "      <td>Tamil Nadu</td>\n",
       "    </tr>\n",
       "    <tr>\n",
       "      <th>9990</th>\n",
       "      <td>OD9991</td>\n",
       "      <td>Alan</td>\n",
       "      <td>Bakery</td>\n",
       "      <td>Biscuits</td>\n",
       "      <td>Kanyakumari</td>\n",
       "      <td>07-12-2015</td>\n",
       "      <td>West</td>\n",
       "      <td>1195</td>\n",
       "      <td>0.26</td>\n",
       "      <td>71.70</td>\n",
       "      <td>Tamil Nadu</td>\n",
       "    </tr>\n",
       "    <tr>\n",
       "      <th>9991</th>\n",
       "      <td>OD9992</td>\n",
       "      <td>Ravi</td>\n",
       "      <td>Food Grains</td>\n",
       "      <td>Rice</td>\n",
       "      <td>Bodi</td>\n",
       "      <td>06-06-2017</td>\n",
       "      <td>West</td>\n",
       "      <td>1567</td>\n",
       "      <td>0.16</td>\n",
       "      <td>501.44</td>\n",
       "      <td>Tamil Nadu</td>\n",
       "    </tr>\n",
       "    <tr>\n",
       "      <th>9992</th>\n",
       "      <td>OD9993</td>\n",
       "      <td>Peer</td>\n",
       "      <td>Oil &amp; Masala</td>\n",
       "      <td>Spices</td>\n",
       "      <td>Pudukottai</td>\n",
       "      <td>10/16/2018</td>\n",
       "      <td>West</td>\n",
       "      <td>1659</td>\n",
       "      <td>0.15</td>\n",
       "      <td>597.24</td>\n",
       "      <td>Tamil Nadu</td>\n",
       "    </tr>\n",
       "    <tr>\n",
       "      <th>9993</th>\n",
       "      <td>OD9994</td>\n",
       "      <td>Ganesh</td>\n",
       "      <td>Food Grains</td>\n",
       "      <td>Atta &amp; Flour</td>\n",
       "      <td>Tirunelveli</td>\n",
       "      <td>4/17/2018</td>\n",
       "      <td>West</td>\n",
       "      <td>1034</td>\n",
       "      <td>0.28</td>\n",
       "      <td>165.44</td>\n",
       "      <td>Tamil Nadu</td>\n",
       "    </tr>\n",
       "  </tbody>\n",
       "</table>\n",
       "<p>9994 rows × 11 columns</p>\n",
       "</div>"
      ],
      "text/plain": [
       "     Order ID Customer Name           Category      Sub Category         City  \\\n",
       "0         OD1        Harish       Oil & Masala           Masalas      Vellore   \n",
       "1         OD2         Sudha          Beverages     Health Drinks  Krishnagiri   \n",
       "2         OD3       Hussain        Food Grains      Atta & Flour   Perambalur   \n",
       "3         OD4       Jackson   Fruits & Veggies  Fresh Vegetables   Dharmapuri   \n",
       "4         OD5       Ridhesh        Food Grains   Organic Staples         Ooty   \n",
       "...       ...           ...                ...               ...          ...   \n",
       "9989   OD9990        Sudeep  Eggs, Meat & Fish              Eggs      Madurai   \n",
       "9990   OD9991          Alan             Bakery          Biscuits  Kanyakumari   \n",
       "9991   OD9992          Ravi        Food Grains              Rice         Bodi   \n",
       "9992   OD9993          Peer       Oil & Masala            Spices   Pudukottai   \n",
       "9993   OD9994        Ganesh        Food Grains      Atta & Flour  Tirunelveli   \n",
       "\n",
       "      Order Date Region  Sales  Discount  Profit       State  \n",
       "0     11-08-2017  North   1254      0.12  401.28  Tamil Nadu  \n",
       "1     11-08-2017  South    749      0.18  149.80  Tamil Nadu  \n",
       "2     06-12-2017   West   2360      0.21  165.20  Tamil Nadu  \n",
       "3     10-11-2016  South    896      0.25   89.60  Tamil Nadu  \n",
       "4     10-11-2016  South   2355      0.26  918.45  Tamil Nadu  \n",
       "...          ...    ...    ...       ...     ...         ...  \n",
       "9989  12/24/2015   West    945      0.16  359.10  Tamil Nadu  \n",
       "9990  07-12-2015   West   1195      0.26   71.70  Tamil Nadu  \n",
       "9991  06-06-2017   West   1567      0.16  501.44  Tamil Nadu  \n",
       "9992  10/16/2018   West   1659      0.15  597.24  Tamil Nadu  \n",
       "9993   4/17/2018   West   1034      0.28  165.44  Tamil Nadu  \n",
       "\n",
       "[9994 rows x 11 columns]"
      ]
     },
     "execution_count": 63,
     "metadata": {},
     "output_type": "execute_result"
    }
   ],
   "source": [
    "data"
   ]
  },
  {
   "cell_type": "code",
   "execution_count": 64,
   "id": "3b178021",
   "metadata": {},
   "outputs": [],
   "source": [
    "data_binary = data[['Sales','Profit']]"
   ]
  },
  {
   "cell_type": "code",
   "execution_count": 65,
   "id": "82bad816",
   "metadata": {},
   "outputs": [],
   "source": [
    "data_binary.columns = ['Sales','Profit']"
   ]
  },
  {
   "cell_type": "code",
   "execution_count": 66,
   "id": "0d64406e",
   "metadata": {},
   "outputs": [
    {
     "data": {
      "text/html": [
       "<div>\n",
       "<style scoped>\n",
       "    .dataframe tbody tr th:only-of-type {\n",
       "        vertical-align: middle;\n",
       "    }\n",
       "\n",
       "    .dataframe tbody tr th {\n",
       "        vertical-align: top;\n",
       "    }\n",
       "\n",
       "    .dataframe thead th {\n",
       "        text-align: right;\n",
       "    }\n",
       "</style>\n",
       "<table border=\"1\" class=\"dataframe\">\n",
       "  <thead>\n",
       "    <tr style=\"text-align: right;\">\n",
       "      <th></th>\n",
       "      <th>Sales</th>\n",
       "      <th>Profit</th>\n",
       "    </tr>\n",
       "  </thead>\n",
       "  <tbody>\n",
       "    <tr>\n",
       "      <th>0</th>\n",
       "      <td>1254</td>\n",
       "      <td>401.28</td>\n",
       "    </tr>\n",
       "    <tr>\n",
       "      <th>1</th>\n",
       "      <td>749</td>\n",
       "      <td>149.80</td>\n",
       "    </tr>\n",
       "    <tr>\n",
       "      <th>2</th>\n",
       "      <td>2360</td>\n",
       "      <td>165.20</td>\n",
       "    </tr>\n",
       "    <tr>\n",
       "      <th>3</th>\n",
       "      <td>896</td>\n",
       "      <td>89.60</td>\n",
       "    </tr>\n",
       "    <tr>\n",
       "      <th>4</th>\n",
       "      <td>2355</td>\n",
       "      <td>918.45</td>\n",
       "    </tr>\n",
       "  </tbody>\n",
       "</table>\n",
       "</div>"
      ],
      "text/plain": [
       "   Sales  Profit\n",
       "0   1254  401.28\n",
       "1    749  149.80\n",
       "2   2360  165.20\n",
       "3    896   89.60\n",
       "4   2355  918.45"
      ]
     },
     "execution_count": 66,
     "metadata": {},
     "output_type": "execute_result"
    }
   ],
   "source": [
    "data_binary.head()"
   ]
  },
  {
   "cell_type": "code",
   "execution_count": 68,
   "id": "dc81be91",
   "metadata": {},
   "outputs": [
    {
     "data": {
      "text/plain": [
       "<seaborn.axisgrid.FacetGrid at 0x1fefc68b130>"
      ]
     },
     "execution_count": 68,
     "metadata": {},
     "output_type": "execute_result"
    },
    {
     "data": {
      "image/png": "[encoded data removed]",
      "text/plain": [
       "<Figure size 360x360 with 1 Axes>"
      ]
     },
     "metadata": {
      "needs_background": "light"
     },
     "output_type": "display_data"
    }
   ],
   "source": [
    "sns.lmplot(x=\"Sales\", y=\"Profit\", data = data_binary, order = 2, ci = None)"
   ]
  },
  {
   "cell_type": "code",
   "execution_count": 69,
   "id": "31a64182",
   "metadata": {},
   "outputs": [
    {
     "name": "stderr",
     "output_type": "stream",
     "text": [
      "C:\\Users\\aksha\\anaconda3\\lib\\site-packages\\pandas\\core\\frame.py:4462: SettingWithCopyWarning: \n",
      "A value is trying to be set on a copy of a slice from a DataFrame\n",
      "\n",
      "See the caveats in the documentation: https://pandas.pydata.org/pandas-docs/stable/user_guide/indexing.html#returning-a-view-versus-a-copy\n",
      "  return super().fillna(\n"
     ]
    }
   ],
   "source": [
    "data_binary.fillna(method = 'ffill', inplace = True)"
   ]
  },
  {
   "cell_type": "code",
   "execution_count": 71,
   "id": "0d6da10f",
   "metadata": {},
   "outputs": [
    {
     "name": "stdout",
     "output_type": "stream",
     "text": [
      "0.3729035546680346\n"
     ]
    },
    {
     "name": "stderr",
     "output_type": "stream",
     "text": [
      "<ipython-input-71-7bb5b68d3d91>:5: SettingWithCopyWarning: \n",
      "A value is trying to be set on a copy of a slice from a DataFrame\n",
      "\n",
      "See the caveats in the documentation: https://pandas.pydata.org/pandas-docs/stable/user_guide/indexing.html#returning-a-view-versus-a-copy\n",
      "  data_binary.dropna(inplace = True)\n"
     ]
    }
   ],
   "source": [
    "X = np.array(data_binary['Sales']).reshape(-1, 1)\n",
    "\n",
    "y = np.array(data_binary['Profit']).reshape(-1, 1)\n",
    "\n",
    "data_binary.dropna(inplace = True)\n",
    "\n",
    "X_train, X_test, y_train, y_test = train_test_split(X, y, test_size = 0.25)\n",
    "\n",
    "regr = LinearRegression()\n",
    "\n",
    "regr.fit(X_train, y_train)\n",
    "\n",
    "print(regr.score(X_test, y_test))"
   ]
  },
  {
   "cell_type": "code",
   "execution_count": 72,
   "id": "972604a2",
   "metadata": {},
   "outputs": [
    {
     "data": {
      "image/png": "[encoded data removed]",
      "text/plain": [
       "<Figure size 432x288 with 1 Axes>"
      ]
     },
     "metadata": {
      "needs_background": "light"
     },
     "output_type": "display_data"
    }
   ],
   "source": [
    "y_pred = regr.predict(X_test)\n",
    "\n",
    "plt.scatter(X_test, y_test, color ='b')\n",
    "\n",
    "plt.plot(X_test, y_pred, color ='k')\n",
    "\n",
    "plt.show()"
   ]
  },
  {
   "cell_type": "markdown",
   "id": "229c10c4",
   "metadata": {},
   "source": [
    "# Working With a Smaller Dataset"
   ]
  },
  {
   "cell_type": "code",
   "execution_count": 74,
   "id": "65cb8f71",
   "metadata": {},
   "outputs": [],
   "source": [
    "data_binary500 = data_binary[:][:500]"
   ]
  },
  {
   "cell_type": "code",
   "execution_count": 75,
   "id": "6b12dce6",
   "metadata": {},
   "outputs": [
    {
     "data": {
      "text/html": [
       "<div>\n",
       "<style scoped>\n",
       "    .dataframe tbody tr th:only-of-type {\n",
       "        vertical-align: middle;\n",
       "    }\n",
       "\n",
       "    .dataframe tbody tr th {\n",
       "        vertical-align: top;\n",
       "    }\n",
       "\n",
       "    .dataframe thead th {\n",
       "        text-align: right;\n",
       "    }\n",
       "</style>\n",
       "<table border=\"1\" class=\"dataframe\">\n",
       "  <thead>\n",
       "    <tr style=\"text-align: right;\">\n",
       "      <th></th>\n",
       "      <th>Order ID</th>\n",
       "      <th>Customer Name</th>\n",
       "      <th>Category</th>\n",
       "      <th>Sub Category</th>\n",
       "      <th>City</th>\n",
       "      <th>Order Date</th>\n",
       "      <th>Region</th>\n",
       "      <th>Sales</th>\n",
       "      <th>Discount</th>\n",
       "      <th>Profit</th>\n",
       "      <th>State</th>\n",
       "    </tr>\n",
       "  </thead>\n",
       "  <tbody>\n",
       "    <tr>\n",
       "      <th>0</th>\n",
       "      <td>OD1</td>\n",
       "      <td>Harish</td>\n",
       "      <td>Oil &amp; Masala</td>\n",
       "      <td>Masalas</td>\n",
       "      <td>Vellore</td>\n",
       "      <td>11-08-2017</td>\n",
       "      <td>North</td>\n",
       "      <td>1254</td>\n",
       "      <td>0.12</td>\n",
       "      <td>401.28</td>\n",
       "      <td>Tamil Nadu</td>\n",
       "    </tr>\n",
       "    <tr>\n",
       "      <th>1</th>\n",
       "      <td>OD2</td>\n",
       "      <td>Sudha</td>\n",
       "      <td>Beverages</td>\n",
       "      <td>Health Drinks</td>\n",
       "      <td>Krishnagiri</td>\n",
       "      <td>11-08-2017</td>\n",
       "      <td>South</td>\n",
       "      <td>749</td>\n",
       "      <td>0.18</td>\n",
       "      <td>149.80</td>\n",
       "      <td>Tamil Nadu</td>\n",
       "    </tr>\n",
       "    <tr>\n",
       "      <th>2</th>\n",
       "      <td>OD3</td>\n",
       "      <td>Hussain</td>\n",
       "      <td>Food Grains</td>\n",
       "      <td>Atta &amp; Flour</td>\n",
       "      <td>Perambalur</td>\n",
       "      <td>06-12-2017</td>\n",
       "      <td>West</td>\n",
       "      <td>2360</td>\n",
       "      <td>0.21</td>\n",
       "      <td>165.20</td>\n",
       "      <td>Tamil Nadu</td>\n",
       "    </tr>\n",
       "    <tr>\n",
       "      <th>3</th>\n",
       "      <td>OD4</td>\n",
       "      <td>Jackson</td>\n",
       "      <td>Fruits &amp; Veggies</td>\n",
       "      <td>Fresh Vegetables</td>\n",
       "      <td>Dharmapuri</td>\n",
       "      <td>10-11-2016</td>\n",
       "      <td>South</td>\n",
       "      <td>896</td>\n",
       "      <td>0.25</td>\n",
       "      <td>89.60</td>\n",
       "      <td>Tamil Nadu</td>\n",
       "    </tr>\n",
       "    <tr>\n",
       "      <th>4</th>\n",
       "      <td>OD5</td>\n",
       "      <td>Ridhesh</td>\n",
       "      <td>Food Grains</td>\n",
       "      <td>Organic Staples</td>\n",
       "      <td>Ooty</td>\n",
       "      <td>10-11-2016</td>\n",
       "      <td>South</td>\n",
       "      <td>2355</td>\n",
       "      <td>0.26</td>\n",
       "      <td>918.45</td>\n",
       "      <td>Tamil Nadu</td>\n",
       "    </tr>\n",
       "    <tr>\n",
       "      <th>...</th>\n",
       "      <td>...</td>\n",
       "      <td>...</td>\n",
       "      <td>...</td>\n",
       "      <td>...</td>\n",
       "      <td>...</td>\n",
       "      <td>...</td>\n",
       "      <td>...</td>\n",
       "      <td>...</td>\n",
       "      <td>...</td>\n",
       "      <td>...</td>\n",
       "      <td>...</td>\n",
       "    </tr>\n",
       "    <tr>\n",
       "      <th>9989</th>\n",
       "      <td>OD9990</td>\n",
       "      <td>Sudeep</td>\n",
       "      <td>Eggs, Meat &amp; Fish</td>\n",
       "      <td>Eggs</td>\n",
       "      <td>Madurai</td>\n",
       "      <td>12/24/2015</td>\n",
       "      <td>West</td>\n",
       "      <td>945</td>\n",
       "      <td>0.16</td>\n",
       "      <td>359.10</td>\n",
       "      <td>Tamil Nadu</td>\n",
       "    </tr>\n",
       "    <tr>\n",
       "      <th>9990</th>\n",
       "      <td>OD9991</td>\n",
       "      <td>Alan</td>\n",
       "      <td>Bakery</td>\n",
       "      <td>Biscuits</td>\n",
       "      <td>Kanyakumari</td>\n",
       "      <td>07-12-2015</td>\n",
       "      <td>West</td>\n",
       "      <td>1195</td>\n",
       "      <td>0.26</td>\n",
       "      <td>71.70</td>\n",
       "      <td>Tamil Nadu</td>\n",
       "    </tr>\n",
       "    <tr>\n",
       "      <th>9991</th>\n",
       "      <td>OD9992</td>\n",
       "      <td>Ravi</td>\n",
       "      <td>Food Grains</td>\n",
       "      <td>Rice</td>\n",
       "      <td>Bodi</td>\n",
       "      <td>06-06-2017</td>\n",
       "      <td>West</td>\n",
       "      <td>1567</td>\n",
       "      <td>0.16</td>\n",
       "      <td>501.44</td>\n",
       "      <td>Tamil Nadu</td>\n",
       "    </tr>\n",
       "    <tr>\n",
       "      <th>9992</th>\n",
       "      <td>OD9993</td>\n",
       "      <td>Peer</td>\n",
       "      <td>Oil &amp; Masala</td>\n",
       "      <td>Spices</td>\n",
       "      <td>Pudukottai</td>\n",
       "      <td>10/16/2018</td>\n",
       "      <td>West</td>\n",
       "      <td>1659</td>\n",
       "      <td>0.15</td>\n",
       "      <td>597.24</td>\n",
       "      <td>Tamil Nadu</td>\n",
       "    </tr>\n",
       "    <tr>\n",
       "      <th>9993</th>\n",
       "      <td>OD9994</td>\n",
       "      <td>Ganesh</td>\n",
       "      <td>Food Grains</td>\n",
       "      <td>Atta &amp; Flour</td>\n",
       "      <td>Tirunelveli</td>\n",
       "      <td>4/17/2018</td>\n",
       "      <td>West</td>\n",
       "      <td>1034</td>\n",
       "      <td>0.28</td>\n",
       "      <td>165.44</td>\n",
       "      <td>Tamil Nadu</td>\n",
       "    </tr>\n",
       "  </tbody>\n",
       "</table>\n",
       "<p>9994 rows × 11 columns</p>\n",
       "</div>"
      ],
      "text/plain": [
       "     Order ID Customer Name           Category      Sub Category         City  \\\n",
       "0         OD1        Harish       Oil & Masala           Masalas      Vellore   \n",
       "1         OD2         Sudha          Beverages     Health Drinks  Krishnagiri   \n",
       "2         OD3       Hussain        Food Grains      Atta & Flour   Perambalur   \n",
       "3         OD4       Jackson   Fruits & Veggies  Fresh Vegetables   Dharmapuri   \n",
       "4         OD5       Ridhesh        Food Grains   Organic Staples         Ooty   \n",
       "...       ...           ...                ...               ...          ...   \n",
       "9989   OD9990        Sudeep  Eggs, Meat & Fish              Eggs      Madurai   \n",
       "9990   OD9991          Alan             Bakery          Biscuits  Kanyakumari   \n",
       "9991   OD9992          Ravi        Food Grains              Rice         Bodi   \n",
       "9992   OD9993          Peer       Oil & Masala            Spices   Pudukottai   \n",
       "9993   OD9994        Ganesh        Food Grains      Atta & Flour  Tirunelveli   \n",
       "\n",
       "      Order Date Region  Sales  Discount  Profit       State  \n",
       "0     11-08-2017  North   1254      0.12  401.28  Tamil Nadu  \n",
       "1     11-08-2017  South    749      0.18  149.80  Tamil Nadu  \n",
       "2     06-12-2017   West   2360      0.21  165.20  Tamil Nadu  \n",
       "3     10-11-2016  South    896      0.25   89.60  Tamil Nadu  \n",
       "4     10-11-2016  South   2355      0.26  918.45  Tamil Nadu  \n",
       "...          ...    ...    ...       ...     ...         ...  \n",
       "9989  12/24/2015   West    945      0.16  359.10  Tamil Nadu  \n",
       "9990  07-12-2015   West   1195      0.26   71.70  Tamil Nadu  \n",
       "9991  06-06-2017   West   1567      0.16  501.44  Tamil Nadu  \n",
       "9992  10/16/2018   West   1659      0.15  597.24  Tamil Nadu  \n",
       "9993   4/17/2018   West   1034      0.28  165.44  Tamil Nadu  \n",
       "\n",
       "[9994 rows x 11 columns]"
      ]
     },
     "execution_count": 75,
     "metadata": {},
     "output_type": "execute_result"
    }
   ],
   "source": [
    "data"
   ]
  },
  {
   "cell_type": "code",
   "execution_count": 76,
   "id": "5f965623",
   "metadata": {},
   "outputs": [
    {
     "data": {
      "text/plain": [
       "<seaborn.axisgrid.FacetGrid at 0x1fefc6d9a90>"
      ]
     },
     "execution_count": 76,
     "metadata": {},
     "output_type": "execute_result"
    },
    {
     "data": {
      "image/png": "[encoded data removed]",
      "text/plain": [
       "<Figure size 360x360 with 1 Axes>"
      ]
     },
     "metadata": {
      "needs_background": "light"
     },
     "output_type": "display_data"
    }
   ],
   "source": [
    "sns.lmplot(x =\"Sales\", y =\"Profit\", data = data_binary500,\n",
    "\n",
    "                               order = 2, ci = None)"
   ]
  },
  {
   "cell_type": "code",
   "execution_count": 77,
   "id": "9f6ab03b",
   "metadata": {},
   "outputs": [],
   "source": [
    "data_binary500.fillna(method ='ffill', inplace = True)"
   ]
  },
  {
   "cell_type": "code",
   "execution_count": 78,
   "id": "ea963b3a",
   "metadata": {},
   "outputs": [],
   "source": [
    "X = np.array(data_binary500['Sales']).reshape(-1, 1)"
   ]
  },
  {
   "cell_type": "code",
   "execution_count": 79,
   "id": "cdcc7f1f",
   "metadata": {},
   "outputs": [],
   "source": [
    "y = np.array(data_binary500['Profit']).reshape(-1, 1)"
   ]
  },
  {
   "cell_type": "code",
   "execution_count": 87,
   "id": "52448089",
   "metadata": {},
   "outputs": [
    {
     "name": "stdout",
     "output_type": "stream",
     "text": [
      "0.4720730993367678\n"
     ]
    }
   ],
   "source": [
    "data_binary500.dropna(inplace = True)\n",
    "\n",
    "X_train, X_test, y_train, y_test = train_test_split(X, y, test_size = 0.20)\n",
    "\n",
    "regr = LinearRegression()\n",
    "\n",
    "regr.fit(X_train, y_train)\n",
    "\n",
    "print(regr.score(X_test, y_test))\n",
    "\n",
    "y_pred = regr.predict(X_test)"
   ]
  },
  {
   "cell_type": "code",
   "execution_count": 82,
   "id": "979a342c",
   "metadata": {},
   "outputs": [
    {
     "data": {
      "image/png": "[encoded data removed]",
      "text/plain": [
       "<Figure size 432x288 with 1 Axes>"
      ]
     },
     "metadata": {
      "needs_background": "light"
     },
     "output_type": "display_data"
    }
   ],
   "source": [
    "plt.scatter(X_test, y_test, color ='b')\n",
    "\n",
    "plt.plot(X_test, y_pred, color ='k')\n",
    "\n",
    "plt.show()"
   ]
  },
  {
   "cell_type": "code",
   "execution_count": null,
   "id": "472e54c3",
   "metadata": {},
   "outputs": [],
   "source": []
  },
  {
   "cell_type": "code",
   "execution_count": null,
   "id": "dce3b5f6",
   "metadata": {},
   "outputs": [],
   "source": []
  },
  {
   "cell_type": "code",
   "execution_count": null,
   "id": "4c3ac0b9",
   "metadata": {},
   "outputs": [],
   "source": []
  },
  {
   "cell_type": "code",
   "execution_count": null,
   "id": "ca383d8e",
   "metadata": {},
   "outputs": [],
   "source": []
  },
  {
   "cell_type": "code",
   "execution_count": null,
   "id": "121e2d36",
   "metadata": {},
   "outputs": [],
   "source": []
  }
 ],
 "metadata": {
  "kernelspec": {
   "display_name": "Python 3",
   "language": "python",
   "name": "python3"
  },
  "language_info": {
   "codemirror_mode": {
    "name": "ipython",
    "version": 3
   },
   "file_extension": ".py",
   "mimetype": "text/x-python",
   "name": "python",
   "nbconvert_exporter": "python",
   "pygments_lexer": "ipython3",
   "version": "3.8.8"
  }
 },
 "nbformat": 4,
 "nbformat_minor": 5
}
